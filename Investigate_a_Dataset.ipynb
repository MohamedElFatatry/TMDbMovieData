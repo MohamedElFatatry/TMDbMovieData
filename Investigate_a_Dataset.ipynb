{
 "cells": [
  {
   "cell_type": "markdown",
   "metadata": {},
   "source": [
    "> **Tip**: Welcome to the Investigate a Dataset project! You will find tips in quoted sections like this to help organize your approach to your investigation. Before submitting your project, it will be a good idea to go back through your report and remove these sections to make the presentation of your work as tidy as possible. First things first, you might want to double-click this Markdown cell and change the title so that it reflects your dataset and investigation.\n",
    "\n",
    "# Project: TMDb Movie Data\n",
    "\n",
    "## Table of Contents\n",
    "<ul>\n",
    "<li><a href=\"#intro\">Introduction</a></li>\n",
    "<li><a href=\"#wrangling\">Data Wrangling</a></li>\n",
    "<li><a href=\"#eda\">Exploratory Data Analysis</a></li>\n",
    "<li><a href=\"#conclusions\">Conclusions</a></li>\n",
    "</ul>"
   ]
  },
  {
   "cell_type": "markdown",
   "metadata": {},
   "source": [
    "<a id='intro'></a>\n",
    "## Introduction\n",
    "\n",
    "    Now we will be working on TMDb movie dataset that has more than 10,000 movies with 21 columns, first we will import the data, invistigate it, do cleaning if needed, then we will ask some questions and answer them using Explaratory Data Analysis to get some insights and plots to answer our questions.\n",
    "    \n",
    "   ### Questions that can be answered with the Exploratory Data Analysis :\n",
    "       1.what movies made most revenues ?\n",
    "       2.what movies made most profits ?\n",
    "       3.is it necessary that movies with most revenues are the ones with most profits ?\n",
    "       4.who are the directors who made most profits along their career ?\n",
    "       5.who are the actors who made the most appearances along their career ?\n",
    "       6.was it fair to use 'budget_adj' & 'revenue_adj' to do analysis depending on revenue, budget & profit or not?\n",
    "       "
   ]
  },
  {
   "cell_type": "code",
   "execution_count": 18,
   "metadata": {},
   "outputs": [],
   "source": [
    "import pandas as pd\n",
    "import numpy as np\n",
    "import matplotlib.pyplot as plot\n",
    "%matplotlib inline\n",
    "import seaborn as sns\n"
   ]
  },
  {
   "cell_type": "markdown",
   "metadata": {},
   "source": [
    "<a id='wrangling'></a>\n",
    "## Data Wrangling\n",
    "\n",
    "> **Tip**: In this section of the report, you will load in the data, check for cleanliness, and then trim and clean your dataset for analysis. Make sure that you document your steps carefully and justify your cleaning decisions.\n",
    "\n",
    "### General Properties"
   ]
  },
  {
   "cell_type": "code",
   "execution_count": 19,
   "metadata": {},
   "outputs": [
    {
     "data": {
      "text/html": [
       "<div>\n",
       "<style scoped>\n",
       "    .dataframe tbody tr th:only-of-type {\n",
       "        vertical-align: middle;\n",
       "    }\n",
       "\n",
       "    .dataframe tbody tr th {\n",
       "        vertical-align: top;\n",
       "    }\n",
       "\n",
       "    .dataframe thead th {\n",
       "        text-align: right;\n",
       "    }\n",
       "</style>\n",
       "<table border=\"1\" class=\"dataframe\">\n",
       "  <thead>\n",
       "    <tr style=\"text-align: right;\">\n",
       "      <th></th>\n",
       "      <th>id</th>\n",
       "      <th>imdb_id</th>\n",
       "      <th>popularity</th>\n",
       "      <th>budget</th>\n",
       "      <th>revenue</th>\n",
       "      <th>original_title</th>\n",
       "      <th>cast</th>\n",
       "      <th>homepage</th>\n",
       "      <th>director</th>\n",
       "      <th>tagline</th>\n",
       "      <th>...</th>\n",
       "      <th>overview</th>\n",
       "      <th>runtime</th>\n",
       "      <th>genres</th>\n",
       "      <th>production_companies</th>\n",
       "      <th>release_date</th>\n",
       "      <th>vote_count</th>\n",
       "      <th>vote_average</th>\n",
       "      <th>release_year</th>\n",
       "      <th>budget_adj</th>\n",
       "      <th>revenue_adj</th>\n",
       "    </tr>\n",
       "  </thead>\n",
       "  <tbody>\n",
       "    <tr>\n",
       "      <th>0</th>\n",
       "      <td>135397</td>\n",
       "      <td>tt0369610</td>\n",
       "      <td>32.985763</td>\n",
       "      <td>150000000</td>\n",
       "      <td>1513528810</td>\n",
       "      <td>Jurassic World</td>\n",
       "      <td>Chris Pratt|Bryce Dallas Howard|Irrfan Khan|Vi...</td>\n",
       "      <td>http://www.jurassicworld.com/</td>\n",
       "      <td>Colin Trevorrow</td>\n",
       "      <td>The park is open.</td>\n",
       "      <td>...</td>\n",
       "      <td>Twenty-two years after the events of Jurassic ...</td>\n",
       "      <td>124</td>\n",
       "      <td>Action|Adventure|Science Fiction|Thriller</td>\n",
       "      <td>Universal Studios|Amblin Entertainment|Legenda...</td>\n",
       "      <td>6/9/15</td>\n",
       "      <td>5562</td>\n",
       "      <td>6.5</td>\n",
       "      <td>2015</td>\n",
       "      <td>1.379999e+08</td>\n",
       "      <td>1.392446e+09</td>\n",
       "    </tr>\n",
       "    <tr>\n",
       "      <th>1</th>\n",
       "      <td>76341</td>\n",
       "      <td>tt1392190</td>\n",
       "      <td>28.419936</td>\n",
       "      <td>150000000</td>\n",
       "      <td>378436354</td>\n",
       "      <td>Mad Max: Fury Road</td>\n",
       "      <td>Tom Hardy|Charlize Theron|Hugh Keays-Byrne|Nic...</td>\n",
       "      <td>http://www.madmaxmovie.com/</td>\n",
       "      <td>George Miller</td>\n",
       "      <td>What a Lovely Day.</td>\n",
       "      <td>...</td>\n",
       "      <td>An apocalyptic story set in the furthest reach...</td>\n",
       "      <td>120</td>\n",
       "      <td>Action|Adventure|Science Fiction|Thriller</td>\n",
       "      <td>Village Roadshow Pictures|Kennedy Miller Produ...</td>\n",
       "      <td>5/13/15</td>\n",
       "      <td>6185</td>\n",
       "      <td>7.1</td>\n",
       "      <td>2015</td>\n",
       "      <td>1.379999e+08</td>\n",
       "      <td>3.481613e+08</td>\n",
       "    </tr>\n",
       "    <tr>\n",
       "      <th>2</th>\n",
       "      <td>262500</td>\n",
       "      <td>tt2908446</td>\n",
       "      <td>13.112507</td>\n",
       "      <td>110000000</td>\n",
       "      <td>295238201</td>\n",
       "      <td>Insurgent</td>\n",
       "      <td>Shailene Woodley|Theo James|Kate Winslet|Ansel...</td>\n",
       "      <td>http://www.thedivergentseries.movie/#insurgent</td>\n",
       "      <td>Robert Schwentke</td>\n",
       "      <td>One Choice Can Destroy You</td>\n",
       "      <td>...</td>\n",
       "      <td>Beatrice Prior must confront her inner demons ...</td>\n",
       "      <td>119</td>\n",
       "      <td>Adventure|Science Fiction|Thriller</td>\n",
       "      <td>Summit Entertainment|Mandeville Films|Red Wago...</td>\n",
       "      <td>3/18/15</td>\n",
       "      <td>2480</td>\n",
       "      <td>6.3</td>\n",
       "      <td>2015</td>\n",
       "      <td>1.012000e+08</td>\n",
       "      <td>2.716190e+08</td>\n",
       "    </tr>\n",
       "    <tr>\n",
       "      <th>3</th>\n",
       "      <td>140607</td>\n",
       "      <td>tt2488496</td>\n",
       "      <td>11.173104</td>\n",
       "      <td>200000000</td>\n",
       "      <td>2068178225</td>\n",
       "      <td>Star Wars: The Force Awakens</td>\n",
       "      <td>Harrison Ford|Mark Hamill|Carrie Fisher|Adam D...</td>\n",
       "      <td>http://www.starwars.com/films/star-wars-episod...</td>\n",
       "      <td>J.J. Abrams</td>\n",
       "      <td>Every generation has a story.</td>\n",
       "      <td>...</td>\n",
       "      <td>Thirty years after defeating the Galactic Empi...</td>\n",
       "      <td>136</td>\n",
       "      <td>Action|Adventure|Science Fiction|Fantasy</td>\n",
       "      <td>Lucasfilm|Truenorth Productions|Bad Robot</td>\n",
       "      <td>12/15/15</td>\n",
       "      <td>5292</td>\n",
       "      <td>7.5</td>\n",
       "      <td>2015</td>\n",
       "      <td>1.839999e+08</td>\n",
       "      <td>1.902723e+09</td>\n",
       "    </tr>\n",
       "    <tr>\n",
       "      <th>4</th>\n",
       "      <td>168259</td>\n",
       "      <td>tt2820852</td>\n",
       "      <td>9.335014</td>\n",
       "      <td>190000000</td>\n",
       "      <td>1506249360</td>\n",
       "      <td>Furious 7</td>\n",
       "      <td>Vin Diesel|Paul Walker|Jason Statham|Michelle ...</td>\n",
       "      <td>http://www.furious7.com/</td>\n",
       "      <td>James Wan</td>\n",
       "      <td>Vengeance Hits Home</td>\n",
       "      <td>...</td>\n",
       "      <td>Deckard Shaw seeks revenge against Dominic Tor...</td>\n",
       "      <td>137</td>\n",
       "      <td>Action|Crime|Thriller</td>\n",
       "      <td>Universal Pictures|Original Film|Media Rights ...</td>\n",
       "      <td>4/1/15</td>\n",
       "      <td>2947</td>\n",
       "      <td>7.3</td>\n",
       "      <td>2015</td>\n",
       "      <td>1.747999e+08</td>\n",
       "      <td>1.385749e+09</td>\n",
       "    </tr>\n",
       "  </tbody>\n",
       "</table>\n",
       "<p>5 rows × 21 columns</p>\n",
       "</div>"
      ],
      "text/plain": [
       "       id    imdb_id  popularity     budget     revenue  \\\n",
       "0  135397  tt0369610   32.985763  150000000  1513528810   \n",
       "1   76341  tt1392190   28.419936  150000000   378436354   \n",
       "2  262500  tt2908446   13.112507  110000000   295238201   \n",
       "3  140607  tt2488496   11.173104  200000000  2068178225   \n",
       "4  168259  tt2820852    9.335014  190000000  1506249360   \n",
       "\n",
       "                 original_title  \\\n",
       "0                Jurassic World   \n",
       "1            Mad Max: Fury Road   \n",
       "2                     Insurgent   \n",
       "3  Star Wars: The Force Awakens   \n",
       "4                     Furious 7   \n",
       "\n",
       "                                                cast  \\\n",
       "0  Chris Pratt|Bryce Dallas Howard|Irrfan Khan|Vi...   \n",
       "1  Tom Hardy|Charlize Theron|Hugh Keays-Byrne|Nic...   \n",
       "2  Shailene Woodley|Theo James|Kate Winslet|Ansel...   \n",
       "3  Harrison Ford|Mark Hamill|Carrie Fisher|Adam D...   \n",
       "4  Vin Diesel|Paul Walker|Jason Statham|Michelle ...   \n",
       "\n",
       "                                            homepage          director  \\\n",
       "0                      http://www.jurassicworld.com/   Colin Trevorrow   \n",
       "1                        http://www.madmaxmovie.com/     George Miller   \n",
       "2     http://www.thedivergentseries.movie/#insurgent  Robert Schwentke   \n",
       "3  http://www.starwars.com/films/star-wars-episod...       J.J. Abrams   \n",
       "4                           http://www.furious7.com/         James Wan   \n",
       "\n",
       "                         tagline      ...       \\\n",
       "0              The park is open.      ...        \n",
       "1             What a Lovely Day.      ...        \n",
       "2     One Choice Can Destroy You      ...        \n",
       "3  Every generation has a story.      ...        \n",
       "4            Vengeance Hits Home      ...        \n",
       "\n",
       "                                            overview runtime  \\\n",
       "0  Twenty-two years after the events of Jurassic ...     124   \n",
       "1  An apocalyptic story set in the furthest reach...     120   \n",
       "2  Beatrice Prior must confront her inner demons ...     119   \n",
       "3  Thirty years after defeating the Galactic Empi...     136   \n",
       "4  Deckard Shaw seeks revenge against Dominic Tor...     137   \n",
       "\n",
       "                                      genres  \\\n",
       "0  Action|Adventure|Science Fiction|Thriller   \n",
       "1  Action|Adventure|Science Fiction|Thriller   \n",
       "2         Adventure|Science Fiction|Thriller   \n",
       "3   Action|Adventure|Science Fiction|Fantasy   \n",
       "4                      Action|Crime|Thriller   \n",
       "\n",
       "                                production_companies release_date vote_count  \\\n",
       "0  Universal Studios|Amblin Entertainment|Legenda...       6/9/15       5562   \n",
       "1  Village Roadshow Pictures|Kennedy Miller Produ...      5/13/15       6185   \n",
       "2  Summit Entertainment|Mandeville Films|Red Wago...      3/18/15       2480   \n",
       "3          Lucasfilm|Truenorth Productions|Bad Robot     12/15/15       5292   \n",
       "4  Universal Pictures|Original Film|Media Rights ...       4/1/15       2947   \n",
       "\n",
       "   vote_average  release_year    budget_adj   revenue_adj  \n",
       "0           6.5          2015  1.379999e+08  1.392446e+09  \n",
       "1           7.1          2015  1.379999e+08  3.481613e+08  \n",
       "2           6.3          2015  1.012000e+08  2.716190e+08  \n",
       "3           7.5          2015  1.839999e+08  1.902723e+09  \n",
       "4           7.3          2015  1.747999e+08  1.385749e+09  \n",
       "\n",
       "[5 rows x 21 columns]"
      ]
     },
     "execution_count": 19,
     "metadata": {},
     "output_type": "execute_result"
    }
   ],
   "source": [
    "df= pd.read_csv('tmdb-movies.csv')\n",
    "df.head()"
   ]
  },
  {
   "cell_type": "code",
   "execution_count": 20,
   "metadata": {},
   "outputs": [
    {
     "name": "stdout",
     "output_type": "stream",
     "text": [
      "<class 'pandas.core.frame.DataFrame'>\n",
      "RangeIndex: 10866 entries, 0 to 10865\n",
      "Data columns (total 21 columns):\n",
      "id                      10866 non-null int64\n",
      "imdb_id                 10856 non-null object\n",
      "popularity              10866 non-null float64\n",
      "budget                  10866 non-null int64\n",
      "revenue                 10866 non-null int64\n",
      "original_title          10866 non-null object\n",
      "cast                    10790 non-null object\n",
      "homepage                2936 non-null object\n",
      "director                10822 non-null object\n",
      "tagline                 8042 non-null object\n",
      "keywords                9373 non-null object\n",
      "overview                10862 non-null object\n",
      "runtime                 10866 non-null int64\n",
      "genres                  10843 non-null object\n",
      "production_companies    9836 non-null object\n",
      "release_date            10866 non-null object\n",
      "vote_count              10866 non-null int64\n",
      "vote_average            10866 non-null float64\n",
      "release_year            10866 non-null int64\n",
      "budget_adj              10866 non-null float64\n",
      "revenue_adj             10866 non-null float64\n",
      "dtypes: float64(4), int64(6), object(11)\n",
      "memory usage: 1.7+ MB\n"
     ]
    }
   ],
   "source": [
    "df.info()"
   ]
  },
  {
   "cell_type": "code",
   "execution_count": 21,
   "metadata": {},
   "outputs": [
    {
     "data": {
      "text/html": [
       "<div>\n",
       "<style scoped>\n",
       "    .dataframe tbody tr th:only-of-type {\n",
       "        vertical-align: middle;\n",
       "    }\n",
       "\n",
       "    .dataframe tbody tr th {\n",
       "        vertical-align: top;\n",
       "    }\n",
       "\n",
       "    .dataframe thead th {\n",
       "        text-align: right;\n",
       "    }\n",
       "</style>\n",
       "<table border=\"1\" class=\"dataframe\">\n",
       "  <thead>\n",
       "    <tr style=\"text-align: right;\">\n",
       "      <th></th>\n",
       "      <th>id</th>\n",
       "      <th>popularity</th>\n",
       "      <th>budget</th>\n",
       "      <th>revenue</th>\n",
       "      <th>runtime</th>\n",
       "      <th>vote_count</th>\n",
       "      <th>vote_average</th>\n",
       "      <th>release_year</th>\n",
       "      <th>budget_adj</th>\n",
       "      <th>revenue_adj</th>\n",
       "    </tr>\n",
       "  </thead>\n",
       "  <tbody>\n",
       "    <tr>\n",
       "      <th>count</th>\n",
       "      <td>10866.000000</td>\n",
       "      <td>10866.000000</td>\n",
       "      <td>1.086600e+04</td>\n",
       "      <td>1.086600e+04</td>\n",
       "      <td>10866.000000</td>\n",
       "      <td>10866.000000</td>\n",
       "      <td>10866.000000</td>\n",
       "      <td>10866.000000</td>\n",
       "      <td>1.086600e+04</td>\n",
       "      <td>1.086600e+04</td>\n",
       "    </tr>\n",
       "    <tr>\n",
       "      <th>mean</th>\n",
       "      <td>66064.177434</td>\n",
       "      <td>0.646441</td>\n",
       "      <td>1.462570e+07</td>\n",
       "      <td>3.982332e+07</td>\n",
       "      <td>102.070863</td>\n",
       "      <td>217.389748</td>\n",
       "      <td>5.974922</td>\n",
       "      <td>2001.322658</td>\n",
       "      <td>1.755104e+07</td>\n",
       "      <td>5.136436e+07</td>\n",
       "    </tr>\n",
       "    <tr>\n",
       "      <th>std</th>\n",
       "      <td>92130.136561</td>\n",
       "      <td>1.000185</td>\n",
       "      <td>3.091321e+07</td>\n",
       "      <td>1.170035e+08</td>\n",
       "      <td>31.381405</td>\n",
       "      <td>575.619058</td>\n",
       "      <td>0.935142</td>\n",
       "      <td>12.812941</td>\n",
       "      <td>3.430616e+07</td>\n",
       "      <td>1.446325e+08</td>\n",
       "    </tr>\n",
       "    <tr>\n",
       "      <th>min</th>\n",
       "      <td>5.000000</td>\n",
       "      <td>0.000065</td>\n",
       "      <td>0.000000e+00</td>\n",
       "      <td>0.000000e+00</td>\n",
       "      <td>0.000000</td>\n",
       "      <td>10.000000</td>\n",
       "      <td>1.500000</td>\n",
       "      <td>1960.000000</td>\n",
       "      <td>0.000000e+00</td>\n",
       "      <td>0.000000e+00</td>\n",
       "    </tr>\n",
       "    <tr>\n",
       "      <th>25%</th>\n",
       "      <td>10596.250000</td>\n",
       "      <td>0.207583</td>\n",
       "      <td>0.000000e+00</td>\n",
       "      <td>0.000000e+00</td>\n",
       "      <td>90.000000</td>\n",
       "      <td>17.000000</td>\n",
       "      <td>5.400000</td>\n",
       "      <td>1995.000000</td>\n",
       "      <td>0.000000e+00</td>\n",
       "      <td>0.000000e+00</td>\n",
       "    </tr>\n",
       "    <tr>\n",
       "      <th>50%</th>\n",
       "      <td>20669.000000</td>\n",
       "      <td>0.383856</td>\n",
       "      <td>0.000000e+00</td>\n",
       "      <td>0.000000e+00</td>\n",
       "      <td>99.000000</td>\n",
       "      <td>38.000000</td>\n",
       "      <td>6.000000</td>\n",
       "      <td>2006.000000</td>\n",
       "      <td>0.000000e+00</td>\n",
       "      <td>0.000000e+00</td>\n",
       "    </tr>\n",
       "    <tr>\n",
       "      <th>75%</th>\n",
       "      <td>75610.000000</td>\n",
       "      <td>0.713817</td>\n",
       "      <td>1.500000e+07</td>\n",
       "      <td>2.400000e+07</td>\n",
       "      <td>111.000000</td>\n",
       "      <td>145.750000</td>\n",
       "      <td>6.600000</td>\n",
       "      <td>2011.000000</td>\n",
       "      <td>2.085325e+07</td>\n",
       "      <td>3.369710e+07</td>\n",
       "    </tr>\n",
       "    <tr>\n",
       "      <th>max</th>\n",
       "      <td>417859.000000</td>\n",
       "      <td>32.985763</td>\n",
       "      <td>4.250000e+08</td>\n",
       "      <td>2.781506e+09</td>\n",
       "      <td>900.000000</td>\n",
       "      <td>9767.000000</td>\n",
       "      <td>9.200000</td>\n",
       "      <td>2015.000000</td>\n",
       "      <td>4.250000e+08</td>\n",
       "      <td>2.827124e+09</td>\n",
       "    </tr>\n",
       "  </tbody>\n",
       "</table>\n",
       "</div>"
      ],
      "text/plain": [
       "                  id    popularity        budget       revenue       runtime  \\\n",
       "count   10866.000000  10866.000000  1.086600e+04  1.086600e+04  10866.000000   \n",
       "mean    66064.177434      0.646441  1.462570e+07  3.982332e+07    102.070863   \n",
       "std     92130.136561      1.000185  3.091321e+07  1.170035e+08     31.381405   \n",
       "min         5.000000      0.000065  0.000000e+00  0.000000e+00      0.000000   \n",
       "25%     10596.250000      0.207583  0.000000e+00  0.000000e+00     90.000000   \n",
       "50%     20669.000000      0.383856  0.000000e+00  0.000000e+00     99.000000   \n",
       "75%     75610.000000      0.713817  1.500000e+07  2.400000e+07    111.000000   \n",
       "max    417859.000000     32.985763  4.250000e+08  2.781506e+09    900.000000   \n",
       "\n",
       "         vote_count  vote_average  release_year    budget_adj   revenue_adj  \n",
       "count  10866.000000  10866.000000  10866.000000  1.086600e+04  1.086600e+04  \n",
       "mean     217.389748      5.974922   2001.322658  1.755104e+07  5.136436e+07  \n",
       "std      575.619058      0.935142     12.812941  3.430616e+07  1.446325e+08  \n",
       "min       10.000000      1.500000   1960.000000  0.000000e+00  0.000000e+00  \n",
       "25%       17.000000      5.400000   1995.000000  0.000000e+00  0.000000e+00  \n",
       "50%       38.000000      6.000000   2006.000000  0.000000e+00  0.000000e+00  \n",
       "75%      145.750000      6.600000   2011.000000  2.085325e+07  3.369710e+07  \n",
       "max     9767.000000      9.200000   2015.000000  4.250000e+08  2.827124e+09  "
      ]
     },
     "execution_count": 21,
     "metadata": {},
     "output_type": "execute_result"
    }
   ],
   "source": [
    "df.describe()"
   ]
  },
  {
   "cell_type": "code",
   "execution_count": 22,
   "metadata": {},
   "outputs": [
    {
     "data": {
      "text/plain": [
       "(10866, 21)"
      ]
     },
     "execution_count": 22,
     "metadata": {},
     "output_type": "execute_result"
    }
   ],
   "source": [
    "df.shape"
   ]
  },
  {
   "cell_type": "markdown",
   "metadata": {},
   "source": [
    "# Data Assesment\n",
    "\n",
    "    1.(id, idmb_id, vote_count, vote_average, homepage, tagline, keywords, production companies, overview) will not be needed in our analysis so i will remove them\n",
    "    \n",
    "    2. remove duplicates\n",
    "\n",
    "    3.convert release date to datetime format\n",
    "\n",
    "    4. remove all rows with NaN values\n",
    "    \n",
    "    "
   ]
  },
  {
   "cell_type": "markdown",
   "metadata": {},
   "source": [
    "> **Tip**: You should _not_ perform too many operations in each cell. Create cells freely to explore your data. One option that you can take with this project is to do a lot of explorations in an initial notebook. These don't have to be organized, but make sure you use enough comments to understand the purpose of each code cell. Then, after you're done with your analysis, create a duplicate notebook where you will trim the excess and organize your steps so that you have a flowing, cohesive report.\n",
    "\n",
    "> **Tip**: Make sure that you keep your reader informed on the steps that you are taking in your investigation. Follow every code cell, or every set of related code cells, with a markdown cell to describe to the reader what was found in the preceding cell(s). Try to make it so that the reader can then understand what they will be seeing in the following cell(s).\n",
    "\n",
    "### Data Cleaning (Removing not needed columns)\n",
    "\n",
    "    The selected columns to be removed will not be needed in answering the questions set for the analysis, in addition to having some of them with alot of null values so removing them will not affect the data analysis process results much."
   ]
  },
  {
   "cell_type": "code",
   "execution_count": 23,
   "metadata": {
    "scrolled": true
   },
   "outputs": [
    {
     "name": "stdout",
     "output_type": "stream",
     "text": [
      "<class 'pandas.core.frame.DataFrame'>\n",
      "RangeIndex: 10866 entries, 0 to 10865\n",
      "Data columns (total 12 columns):\n",
      "popularity        10866 non-null float64\n",
      "budget            10866 non-null int64\n",
      "revenue           10866 non-null int64\n",
      "original_title    10866 non-null object\n",
      "cast              10790 non-null object\n",
      "director          10822 non-null object\n",
      "runtime           10866 non-null int64\n",
      "genres            10843 non-null object\n",
      "release_date      10866 non-null object\n",
      "release_year      10866 non-null int64\n",
      "budget_adj        10866 non-null float64\n",
      "revenue_adj       10866 non-null float64\n",
      "dtypes: float64(3), int64(4), object(5)\n",
      "memory usage: 1018.8+ KB\n"
     ]
    }
   ],
   "source": [
    "df.drop(['id', 'imdb_id', 'vote_count', 'vote_average', 'homepage', 'tagline', 'keywords', 'production_companies', 'overview'] , axis = 1, inplace = True)\n",
    "df.info()"
   ]
  },
  {
   "cell_type": "markdown",
   "metadata": {},
   "source": [
    "### Data Cleaning (Removing Duplicates)\n",
    "    \n",
    "    Duplicates might affect the analysis results so removing them is issential. "
   ]
  },
  {
   "cell_type": "code",
   "execution_count": 24,
   "metadata": {
    "scrolled": true
   },
   "outputs": [
    {
     "name": "stdout",
     "output_type": "stream",
     "text": [
      "<class 'pandas.core.frame.DataFrame'>\n",
      "Int64Index: 10865 entries, 0 to 10865\n",
      "Data columns (total 12 columns):\n",
      "popularity        10865 non-null float64\n",
      "budget            10865 non-null int64\n",
      "revenue           10865 non-null int64\n",
      "original_title    10865 non-null object\n",
      "cast              10789 non-null object\n",
      "director          10821 non-null object\n",
      "runtime           10865 non-null int64\n",
      "genres            10842 non-null object\n",
      "release_date      10865 non-null object\n",
      "release_year      10865 non-null int64\n",
      "budget_adj        10865 non-null float64\n",
      "revenue_adj       10865 non-null float64\n",
      "dtypes: float64(3), int64(4), object(5)\n",
      "memory usage: 1.1+ MB\n"
     ]
    }
   ],
   "source": [
    "df.drop_duplicates(keep ='first', inplace=True)\n",
    "df.info()"
   ]
  },
  {
   "cell_type": "markdown",
   "metadata": {},
   "source": [
    "##### Only one Duplicate was found and removed successfuly "
   ]
  },
  {
   "cell_type": "markdown",
   "metadata": {},
   "source": [
    "### Data Cleaning (changing release date format)\n",
    "\n",
    "    Having columns' data in their right format will help making analysis easier."
   ]
  },
  {
   "cell_type": "code",
   "execution_count": 25,
   "metadata": {
    "scrolled": true
   },
   "outputs": [
    {
     "name": "stdout",
     "output_type": "stream",
     "text": [
      "<class 'pandas.core.frame.DataFrame'>\n",
      "Int64Index: 10865 entries, 0 to 10865\n",
      "Data columns (total 12 columns):\n",
      "popularity        10865 non-null float64\n",
      "budget            10865 non-null int64\n",
      "revenue           10865 non-null int64\n",
      "original_title    10865 non-null object\n",
      "cast              10789 non-null object\n",
      "director          10821 non-null object\n",
      "runtime           10865 non-null int64\n",
      "genres            10842 non-null object\n",
      "release_date      10865 non-null datetime64[ns]\n",
      "release_year      10865 non-null int64\n",
      "budget_adj        10865 non-null float64\n",
      "revenue_adj       10865 non-null float64\n",
      "dtypes: datetime64[ns](1), float64(3), int64(4), object(4)\n",
      "memory usage: 1.1+ MB\n"
     ]
    }
   ],
   "source": [
    "df['release_date'] = pd.to_datetime(df['release_date'], errors ='coerce')\n",
    "df.info()"
   ]
  },
  {
   "cell_type": "markdown",
   "metadata": {},
   "source": [
    "### Data Cleaning (Removing columns with Null Values)\n",
    "\n",
    "    Null values might affect the analysis so removing them is okay IF they're very small percentage that won't affect analysis results"
   ]
  },
  {
   "cell_type": "code",
   "execution_count": 26,
   "metadata": {},
   "outputs": [],
   "source": [
    "df.dropna(inplace = True)"
   ]
  },
  {
   "cell_type": "code",
   "execution_count": 27,
   "metadata": {
    "scrolled": true
   },
   "outputs": [
    {
     "name": "stdout",
     "output_type": "stream",
     "text": [
      "<class 'pandas.core.frame.DataFrame'>\n",
      "Int64Index: 10731 entries, 0 to 10865\n",
      "Data columns (total 12 columns):\n",
      "popularity        10731 non-null float64\n",
      "budget            10731 non-null int64\n",
      "revenue           10731 non-null int64\n",
      "original_title    10731 non-null object\n",
      "cast              10731 non-null object\n",
      "director          10731 non-null object\n",
      "runtime           10731 non-null int64\n",
      "genres            10731 non-null object\n",
      "release_date      10731 non-null datetime64[ns]\n",
      "release_year      10731 non-null int64\n",
      "budget_adj        10731 non-null float64\n",
      "revenue_adj       10731 non-null float64\n",
      "dtypes: datetime64[ns](1), float64(3), int64(4), object(4)\n",
      "memory usage: 1.1+ MB\n"
     ]
    }
   ],
   "source": [
    "df.info()"
   ]
  },
  {
   "cell_type": "markdown",
   "metadata": {},
   "source": [
    "#### 134 rows were removed (about 1.2% of the data) i think this won't affect the analysis results"
   ]
  },
  {
   "cell_type": "markdown",
   "metadata": {},
   "source": [
    "<a id='eda'></a>\n",
    "## Exploratory Data Analysis\n",
    "\n",
    "> **Tip**: Now that you've trimmed and cleaned your data, you're ready to move on to exploration. Compute statistics and create visualizations with the goal of addressing the research questions that you posed in the Introduction section. It is recommended that you be systematic with your approach. Look at one variable at a time, and then follow it up by looking at relationships between variables.\n",
    "\n",
    "### Research Question 1 (What are top 10 movies with highest revenue?)\n"
   ]
  },
  {
   "cell_type": "code",
   "execution_count": 28,
   "metadata": {},
   "outputs": [
    {
     "data": {
      "text/html": [
       "<div>\n",
       "<style scoped>\n",
       "    .dataframe tbody tr th:only-of-type {\n",
       "        vertical-align: middle;\n",
       "    }\n",
       "\n",
       "    .dataframe tbody tr th {\n",
       "        vertical-align: top;\n",
       "    }\n",
       "\n",
       "    .dataframe thead th {\n",
       "        text-align: right;\n",
       "    }\n",
       "</style>\n",
       "<table border=\"1\" class=\"dataframe\">\n",
       "  <thead>\n",
       "    <tr style=\"text-align: right;\">\n",
       "      <th></th>\n",
       "      <th>revenue_adj</th>\n",
       "      <th>original_title</th>\n",
       "    </tr>\n",
       "  </thead>\n",
       "  <tbody>\n",
       "    <tr>\n",
       "      <th>1386</th>\n",
       "      <td>2.827124e+09</td>\n",
       "      <td>Avatar</td>\n",
       "    </tr>\n",
       "    <tr>\n",
       "      <th>1329</th>\n",
       "      <td>2.789712e+09</td>\n",
       "      <td>Star Wars</td>\n",
       "    </tr>\n",
       "    <tr>\n",
       "      <th>5231</th>\n",
       "      <td>2.506406e+09</td>\n",
       "      <td>Titanic</td>\n",
       "    </tr>\n",
       "    <tr>\n",
       "      <th>10594</th>\n",
       "      <td>2.167325e+09</td>\n",
       "      <td>The Exorcist</td>\n",
       "    </tr>\n",
       "    <tr>\n",
       "      <th>9806</th>\n",
       "      <td>1.907006e+09</td>\n",
       "      <td>Jaws</td>\n",
       "    </tr>\n",
       "    <tr>\n",
       "      <th>3</th>\n",
       "      <td>1.902723e+09</td>\n",
       "      <td>Star Wars: The Force Awakens</td>\n",
       "    </tr>\n",
       "    <tr>\n",
       "      <th>8889</th>\n",
       "      <td>1.791694e+09</td>\n",
       "      <td>E.T. the Extra-Terrestrial</td>\n",
       "    </tr>\n",
       "    <tr>\n",
       "      <th>8094</th>\n",
       "      <td>1.583050e+09</td>\n",
       "      <td>The Net</td>\n",
       "    </tr>\n",
       "    <tr>\n",
       "      <th>10110</th>\n",
       "      <td>1.574815e+09</td>\n",
       "      <td>One Hundred and One Dalmatians</td>\n",
       "    </tr>\n",
       "    <tr>\n",
       "      <th>4361</th>\n",
       "      <td>1.443191e+09</td>\n",
       "      <td>The Avengers</td>\n",
       "    </tr>\n",
       "  </tbody>\n",
       "</table>\n",
       "</div>"
      ],
      "text/plain": [
       "        revenue_adj                  original_title\n",
       "1386   2.827124e+09                          Avatar\n",
       "1329   2.789712e+09                       Star Wars\n",
       "5231   2.506406e+09                         Titanic\n",
       "10594  2.167325e+09                    The Exorcist\n",
       "9806   1.907006e+09                            Jaws\n",
       "3      1.902723e+09    Star Wars: The Force Awakens\n",
       "8889   1.791694e+09      E.T. the Extra-Terrestrial\n",
       "8094   1.583050e+09                         The Net\n",
       "10110  1.574815e+09  One Hundred and One Dalmatians\n",
       "4361   1.443191e+09                    The Avengers"
      ]
     },
     "execution_count": 28,
     "metadata": {},
     "output_type": "execute_result"
    }
   ],
   "source": [
    "# top 10 movies highest revenue\n",
    "top10_revenue = df[['revenue_adj','original_title']].nlargest(10 , 'revenue_adj')\n",
    "top10_revenue"
   ]
  },
  {
   "cell_type": "code",
   "execution_count": 29,
   "metadata": {},
   "outputs": [
    {
     "data": {
      "image/png": "[encoded data removed]",
      "text/plain": [
       "<matplotlib.figure.Figure at 0x7f62975da160>"
      ]
     },
     "metadata": {
      "needs_background": "light"
     },
     "output_type": "display_data"
    }
   ],
   "source": [
    "top10_revenue.plot.bar(x=\"original_title\", y=\"revenue_adj\", title=\"top 10 movies with highest revenue\" , figsize=(20,15));\n",
    "plot.xlabel('Movie', fontsize=50)\n",
    "plot.ylabel('Revenue', fontsize=50)\n",
    "plot.show(block=True);\n"
   ]
  },
  {
   "cell_type": "markdown",
   "metadata": {},
   "source": [
    "As seen from the visualization the top 10 movies that made revenues are : 1.Avatar\n",
    "                                                                          2.Star Wars\n",
    "                                                                          3.Titanic\n",
    "                                                                          4.The Exorcist\n",
    "                                                                          5.Jaws\n",
    "                                                                          6.Star Wars: The Force Awakens\n",
    "                                                                          7.E.T. the Extra-Terrestrial\n",
    "                                                                          8.The Net\n",
    "                                                                          9.One Hundred and One Dalmatians\n",
    "                                                                          10.The Avengers\n",
    "                                                                          \n",
    "                                                                          \n",
    "With slight difference between Avatar & Star Wars"
   ]
  },
  {
   "cell_type": "markdown",
   "metadata": {},
   "source": [
    "### Research Question 2  (top 10 movies made profit (compare with revenue))\n",
    "\n",
    "    Revenue doesn't mean profit.. now we will find top 10 movies made profits and compare them with top 10 movies made revenues"
   ]
  },
  {
   "cell_type": "code",
   "execution_count": 30,
   "metadata": {},
   "outputs": [
    {
     "data": {
      "text/html": [
       "<div>\n",
       "<style scoped>\n",
       "    .dataframe tbody tr th:only-of-type {\n",
       "        vertical-align: middle;\n",
       "    }\n",
       "\n",
       "    .dataframe tbody tr th {\n",
       "        vertical-align: top;\n",
       "    }\n",
       "\n",
       "    .dataframe thead th {\n",
       "        text-align: right;\n",
       "    }\n",
       "</style>\n",
       "<table border=\"1\" class=\"dataframe\">\n",
       "  <thead>\n",
       "    <tr style=\"text-align: right;\">\n",
       "      <th></th>\n",
       "      <th>original_title</th>\n",
       "      <th>profit_adj</th>\n",
       "    </tr>\n",
       "  </thead>\n",
       "  <tbody>\n",
       "    <tr>\n",
       "      <th>1329</th>\n",
       "      <td>Star Wars</td>\n",
       "      <td>2.750137e+09</td>\n",
       "    </tr>\n",
       "    <tr>\n",
       "      <th>1386</th>\n",
       "      <td>Avatar</td>\n",
       "      <td>2.586237e+09</td>\n",
       "    </tr>\n",
       "    <tr>\n",
       "      <th>5231</th>\n",
       "      <td>Titanic</td>\n",
       "      <td>2.234714e+09</td>\n",
       "    </tr>\n",
       "    <tr>\n",
       "      <th>10594</th>\n",
       "      <td>The Exorcist</td>\n",
       "      <td>2.128036e+09</td>\n",
       "    </tr>\n",
       "    <tr>\n",
       "      <th>9806</th>\n",
       "      <td>Jaws</td>\n",
       "      <td>1.878643e+09</td>\n",
       "    </tr>\n",
       "    <tr>\n",
       "      <th>8889</th>\n",
       "      <td>E.T. the Extra-Terrestrial</td>\n",
       "      <td>1.767968e+09</td>\n",
       "    </tr>\n",
       "    <tr>\n",
       "      <th>3</th>\n",
       "      <td>Star Wars: The Force Awakens</td>\n",
       "      <td>1.718723e+09</td>\n",
       "    </tr>\n",
       "    <tr>\n",
       "      <th>8094</th>\n",
       "      <td>The Net</td>\n",
       "      <td>1.551568e+09</td>\n",
       "    </tr>\n",
       "    <tr>\n",
       "      <th>10110</th>\n",
       "      <td>One Hundred and One Dalmatians</td>\n",
       "      <td>1.545635e+09</td>\n",
       "    </tr>\n",
       "    <tr>\n",
       "      <th>7309</th>\n",
       "      <td>The Empire Strikes Back</td>\n",
       "      <td>1.376998e+09</td>\n",
       "    </tr>\n",
       "  </tbody>\n",
       "</table>\n",
       "</div>"
      ],
      "text/plain": [
       "                       original_title    profit_adj\n",
       "1329                        Star Wars  2.750137e+09\n",
       "1386                           Avatar  2.586237e+09\n",
       "5231                          Titanic  2.234714e+09\n",
       "10594                    The Exorcist  2.128036e+09\n",
       "9806                             Jaws  1.878643e+09\n",
       "8889       E.T. the Extra-Terrestrial  1.767968e+09\n",
       "3        Star Wars: The Force Awakens  1.718723e+09\n",
       "8094                          The Net  1.551568e+09\n",
       "10110  One Hundred and One Dalmatians  1.545635e+09\n",
       "7309          The Empire Strikes Back  1.376998e+09"
      ]
     },
     "execution_count": 30,
     "metadata": {},
     "output_type": "execute_result"
    }
   ],
   "source": [
    "#first we create profit_adj column\n",
    "df['profit_adj'] = df['revenue_adj'] - df['budget_adj']\n",
    "top10_profit = df[['original_title', 'profit_adj']].nlargest(10 , 'profit_adj')\n",
    "top10_profit"
   ]
  },
  {
   "cell_type": "code",
   "execution_count": 31,
   "metadata": {
    "scrolled": true
   },
   "outputs": [
    {
     "data": {
      "image/png": "[encoded data removed]",
      "text/plain": [
       "<matplotlib.figure.Figure at 0x7f62981e3f98>"
      ]
     },
     "metadata": {
      "needs_background": "light"
     },
     "output_type": "display_data"
    }
   ],
   "source": [
    "top10_profit.plot.bar(x=\"original_title\", y=\"profit_adj\", title=\"top 10 movies with highest profit\" , figsize=(20,15));\n",
    "plot.xlabel('Movie', fontsize=50)\n",
    "plot.ylabel('profit', fontsize=50)\n",
    "plot.show(block=True);"
   ]
  },
  {
   "cell_type": "markdown",
   "metadata": {},
   "source": [
    "As we can see .. \"The Avengers\" Dissapeared from our list and \"The Empire Strikes Back\" appeared \n",
    "Also we can see that the order of the movies changed .. so as we said its not a must that a movie's revenue indicates its profit\n",
    "\n",
    "### Here we can see a bar chart showing difference between movies revenues and profits"
   ]
  },
  {
   "cell_type": "code",
   "execution_count": 157,
   "metadata": {
    "scrolled": true
   },
   "outputs": [
    {
     "data": {
      "image/png": "[encoded data removed]",
      "text/plain": [
       "<matplotlib.figure.Figure at 0x7f9309e231d0>"
      ]
     },
     "metadata": {
      "needs_background": "light"
     },
     "output_type": "display_data"
    }
   ],
   "source": [
    "top9 = top10_revenue.merge(top10_profit ,  how='outer', on = 'original_title' , left_index=True, right_index=True).dropna()\n",
    "top9\n",
    "top9.plot.bar(x=\"original_title\", y=[\"profit_adj\",\"revenue_adj\"], title=\"top 9 movies with highest profit vs revenue\" , figsize=(20,15));\n",
    "plot.xlabel('Movie', fontsize=50)\n",
    "plot.ylabel('Revenue vs Profit', fontsize=50)\n",
    "plot.show();"
   ]
  },
  {
   "cell_type": "markdown",
   "metadata": {},
   "source": [
    "We can tell that movies with less difference between the profit and revenue are concidered more sucessful \"Financially\" "
   ]
  },
  {
   "cell_type": "markdown",
   "metadata": {},
   "source": [
    "### Research Question 3  (top 10 directors made profit )\n",
    "\n",
    "    Now let's see the top 10 directors according to the profits they made"
   ]
  },
  {
   "cell_type": "code",
   "execution_count": 32,
   "metadata": {
    "scrolled": true
   },
   "outputs": [
    {
     "data": {
      "text/html": [
       "<div>\n",
       "<style scoped>\n",
       "    .dataframe tbody tr th:only-of-type {\n",
       "        vertical-align: middle;\n",
       "    }\n",
       "\n",
       "    .dataframe tbody tr th {\n",
       "        vertical-align: top;\n",
       "    }\n",
       "\n",
       "    .dataframe thead th {\n",
       "        text-align: right;\n",
       "    }\n",
       "</style>\n",
       "<table border=\"1\" class=\"dataframe\">\n",
       "  <thead>\n",
       "    <tr style=\"text-align: right;\">\n",
       "      <th></th>\n",
       "      <th>popularity</th>\n",
       "      <th>budget</th>\n",
       "      <th>revenue</th>\n",
       "      <th>runtime</th>\n",
       "      <th>release_year</th>\n",
       "      <th>budget_adj</th>\n",
       "      <th>revenue_adj</th>\n",
       "      <th>profit_adj</th>\n",
       "    </tr>\n",
       "    <tr>\n",
       "      <th>director</th>\n",
       "      <th></th>\n",
       "      <th></th>\n",
       "      <th></th>\n",
       "      <th></th>\n",
       "      <th></th>\n",
       "      <th></th>\n",
       "      <th></th>\n",
       "      <th></th>\n",
       "    </tr>\n",
       "  </thead>\n",
       "  <tbody>\n",
       "    <tr>\n",
       "      <th>Steven Spielberg</th>\n",
       "      <td>54.378995</td>\n",
       "      <td>1589950000</td>\n",
       "      <td>9018563772</td>\n",
       "      <td>3900</td>\n",
       "      <td>57818</td>\n",
       "      <td>2.151770e+09</td>\n",
       "      <td>1.520245e+10</td>\n",
       "      <td>1.305068e+10</td>\n",
       "    </tr>\n",
       "    <tr>\n",
       "      <th>James Cameron</th>\n",
       "      <td>28.824177</td>\n",
       "      <td>760045786</td>\n",
       "      <td>5841894863</td>\n",
       "      <td>1194</td>\n",
       "      <td>17934</td>\n",
       "      <td>1.030992e+09</td>\n",
       "      <td>7.327221e+09</td>\n",
       "      <td>6.296229e+09</td>\n",
       "    </tr>\n",
       "    <tr>\n",
       "      <th>George Lucas</th>\n",
       "      <td>23.461834</td>\n",
       "      <td>360554000</td>\n",
       "      <td>3316550893</td>\n",
       "      <td>735</td>\n",
       "      <td>11927</td>\n",
       "      <td>4.697600e+08</td>\n",
       "      <td>6.313919e+09</td>\n",
       "      <td>5.844159e+09</td>\n",
       "    </tr>\n",
       "    <tr>\n",
       "      <th>Peter Jackson</th>\n",
       "      <td>49.067904</td>\n",
       "      <td>1326775710</td>\n",
       "      <td>6523244659</td>\n",
       "      <td>1853</td>\n",
       "      <td>26017</td>\n",
       "      <td>1.375725e+09</td>\n",
       "      <td>7.019848e+09</td>\n",
       "      <td>5.644123e+09</td>\n",
       "    </tr>\n",
       "    <tr>\n",
       "      <th>Chris Columbus</th>\n",
       "      <td>31.514525</td>\n",
       "      <td>627000000</td>\n",
       "      <td>3851491668</td>\n",
       "      <td>1685</td>\n",
       "      <td>27987</td>\n",
       "      <td>7.407345e+08</td>\n",
       "      <td>5.094077e+09</td>\n",
       "      <td>4.353343e+09</td>\n",
       "    </tr>\n",
       "    <tr>\n",
       "      <th>Robert Zemeckis</th>\n",
       "      <td>33.619667</td>\n",
       "      <td>1025700000</td>\n",
       "      <td>3869690869</td>\n",
       "      <td>2010</td>\n",
       "      <td>33924</td>\n",
       "      <td>1.328678e+09</td>\n",
       "      <td>5.655648e+09</td>\n",
       "      <td>4.326970e+09</td>\n",
       "    </tr>\n",
       "    <tr>\n",
       "      <th>Michael Bay</th>\n",
       "      <td>22.254874</td>\n",
       "      <td>1360000000</td>\n",
       "      <td>4917208171</td>\n",
       "      <td>1614</td>\n",
       "      <td>22052</td>\n",
       "      <td>1.501996e+09</td>\n",
       "      <td>5.460672e+09</td>\n",
       "      <td>3.958676e+09</td>\n",
       "    </tr>\n",
       "    <tr>\n",
       "      <th>David Yates</th>\n",
       "      <td>20.815974</td>\n",
       "      <td>775000000</td>\n",
       "      <td>4154295625</td>\n",
       "      <td>661</td>\n",
       "      <td>10042</td>\n",
       "      <td>7.830252e+08</td>\n",
       "      <td>4.177455e+09</td>\n",
       "      <td>3.394430e+09</td>\n",
       "    </tr>\n",
       "    <tr>\n",
       "      <th>Tim Burton</th>\n",
       "      <td>34.615648</td>\n",
       "      <td>1113060000</td>\n",
       "      <td>3665414624</td>\n",
       "      <td>1800</td>\n",
       "      <td>35963</td>\n",
       "      <td>1.328826e+09</td>\n",
       "      <td>4.529285e+09</td>\n",
       "      <td>3.200460e+09</td>\n",
       "    </tr>\n",
       "    <tr>\n",
       "      <th>Christopher Nolan</th>\n",
       "      <td>61.955206</td>\n",
       "      <td>1005000000</td>\n",
       "      <td>4167548502</td>\n",
       "      <td>1207</td>\n",
       "      <td>20052</td>\n",
       "      <td>1.014694e+09</td>\n",
       "      <td>4.164262e+09</td>\n",
       "      <td>3.149568e+09</td>\n",
       "    </tr>\n",
       "  </tbody>\n",
       "</table>\n",
       "</div>"
      ],
      "text/plain": [
       "                   popularity      budget     revenue  runtime  release_year  \\\n",
       "director                                                                       \n",
       "Steven Spielberg    54.378995  1589950000  9018563772     3900         57818   \n",
       "James Cameron       28.824177   760045786  5841894863     1194         17934   \n",
       "George Lucas        23.461834   360554000  3316550893      735         11927   \n",
       "Peter Jackson       49.067904  1326775710  6523244659     1853         26017   \n",
       "Chris Columbus      31.514525   627000000  3851491668     1685         27987   \n",
       "Robert Zemeckis     33.619667  1025700000  3869690869     2010         33924   \n",
       "Michael Bay         22.254874  1360000000  4917208171     1614         22052   \n",
       "David Yates         20.815974   775000000  4154295625      661         10042   \n",
       "Tim Burton          34.615648  1113060000  3665414624     1800         35963   \n",
       "Christopher Nolan   61.955206  1005000000  4167548502     1207         20052   \n",
       "\n",
       "                     budget_adj   revenue_adj    profit_adj  \n",
       "director                                                     \n",
       "Steven Spielberg   2.151770e+09  1.520245e+10  1.305068e+10  \n",
       "James Cameron      1.030992e+09  7.327221e+09  6.296229e+09  \n",
       "George Lucas       4.697600e+08  6.313919e+09  5.844159e+09  \n",
       "Peter Jackson      1.375725e+09  7.019848e+09  5.644123e+09  \n",
       "Chris Columbus     7.407345e+08  5.094077e+09  4.353343e+09  \n",
       "Robert Zemeckis    1.328678e+09  5.655648e+09  4.326970e+09  \n",
       "Michael Bay        1.501996e+09  5.460672e+09  3.958676e+09  \n",
       "David Yates        7.830252e+08  4.177455e+09  3.394430e+09  \n",
       "Tim Burton         1.328826e+09  4.529285e+09  3.200460e+09  \n",
       "Christopher Nolan  1.014694e+09  4.164262e+09  3.149568e+09  "
      ]
     },
     "execution_count": 32,
     "metadata": {},
     "output_type": "execute_result"
    }
   ],
   "source": [
    "top10_directors = df.groupby(\"director\").sum().sort_values(\"profit_adj\", ascending=False).nlargest(10 , \"profit_adj\")\n",
    "top10_directors"
   ]
  },
  {
   "cell_type": "code",
   "execution_count": 33,
   "metadata": {
    "scrolled": false
   },
   "outputs": [
    {
     "data": {
      "image/png": "[encoded data removed]",
      "text/plain": [
       "<matplotlib.figure.Figure at 0x7f62974ed908>"
      ]
     },
     "metadata": {
      "needs_background": "light"
     },
     "output_type": "display_data"
    }
   ],
   "source": [
    "top10_directors.plot.bar( y=\"profit_adj\", title=\"top 10 directors with highest profit\" , figsize=(20,15));\n",
    "plot.xlabel('Director', fontsize=50)\n",
    "plot.ylabel('profit', fontsize=50)\n",
    "plot.show(block=True);"
   ]
  },
  {
   "cell_type": "markdown",
   "metadata": {},
   "source": [
    "#### Its very clear that \"steven Spielberg\" is number one with huge difference between him and othed directors."
   ]
  },
  {
   "cell_type": "markdown",
   "metadata": {},
   "source": [
    "### Research Question 4  (top 10 Actors made Appearances )\n",
    "\n",
    "    Now let's take a look at the top 10 actors according to their appearances"
   ]
  },
  {
   "cell_type": "code",
   "execution_count": 34,
   "metadata": {},
   "outputs": [
    {
     "data": {
      "text/plain": [
       "Robert De Niro       72\n",
       "Samuel L. Jackson    71\n",
       "Bruce Willis         62\n",
       "Nicolas Cage         61\n",
       "Michael Caine        53\n",
       "Robin Williams       51\n",
       "John Cusack          50\n",
       "John Goodman         49\n",
       "Morgan Freeman       49\n",
       "Liam Neeson          48\n",
       "dtype: int64"
      ]
     },
     "execution_count": 34,
     "metadata": {},
     "output_type": "execute_result"
    }
   ],
   "source": [
    "def data(column):\n",
    "    #will take a column, and separate the string by '|'\n",
    "    x = df[column].str.cat(sep = '|')\n",
    "\n",
    "    #giving pandas series and storing the values separately\n",
    "    x = pd.Series(x.split('|'))\n",
    "\n",
    "    #arranging in descending order\n",
    "    count = x.value_counts(ascending = False)\n",
    "    \n",
    "    return count\n",
    "count = data('cast')\n",
    "\n",
    "y = count.nlargest(10)\n",
    "y"
   ]
  },
  {
   "cell_type": "code",
   "execution_count": 35,
   "metadata": {
    "scrolled": false
   },
   "outputs": [
    {
     "data": {
      "image/png": "[encoded data removed]",
      "text/plain": [
       "<matplotlib.figure.Figure at 0x7f629752b978>"
      ]
     },
     "metadata": {
      "needs_background": "light"
     },
     "output_type": "display_data"
    }
   ],
   "source": [
    "y.plot.bar( title=\"top 10 actors with most appearances\" , figsize=(20,15));\n",
    "plot.xlabel('Actor', fontsize=50)\n",
    "plot.ylabel('Appearances', fontsize=50)\n",
    "plot.show(block=True);"
   ]
  },
  {
   "cell_type": "markdown",
   "metadata": {},
   "source": [
    "We can see the top 10 actors according to appearances : 1.Robert De Niro       72\n",
    "                                                        2.Samuel L. Jackson    71\n",
    "                                                        3.Bruce Willis         62\n",
    "                                                        4.Nicolas Cage         61\n",
    "                                                        5.Michael Caine        53\n",
    "                                                        6.Robin Williams       51\n",
    "                                                        7.John Cusack          50\n",
    "                                                        8.John Goodman         49\n",
    "                                                        9.Morgan Freeman       49\n",
    "                                                        10.Liam Neeson         48"
   ]
  },
  {
   "cell_type": "markdown",
   "metadata": {},
   "source": [
    "### Research Question 5  (was it fair to use 'budget_adj' & 'revenue_adj' to do analysis depending on revenue, budget & profit or not)\n",
    "\n",
    "    The two columns ending with “_adj” show the budget and revenue of the associated movie in terms of 2010 dollars, accounting for inflation over time.\n",
    "    Was my choice to work using adjusted values right ?"
   ]
  },
  {
   "cell_type": "code",
   "execution_count": 36,
   "metadata": {
    "scrolled": false
   },
   "outputs": [
    {
     "name": "stdout",
     "output_type": "stream",
     "text": [
      "    release_year      budget      revenue    budget_adj   revenue_adj\n",
      "0           1960    22056948    145005000  1.626252e+08  1.069117e+09\n",
      "1           1961    46137000    337720188  3.365630e+08  2.463622e+09\n",
      "2           1962    54722126    215579846  3.944616e+08  1.553996e+09\n",
      "3           1963    73331500    187404989  5.221334e+08  1.334357e+09\n",
      "4           1964    39483161    340981782  2.775772e+08  2.397193e+09\n",
      "5           1965    70205115    458081854  4.858590e+08  3.170185e+09\n",
      "6           1966    57554800     84736689  3.866540e+08  5.692623e+08\n",
      "7           1967   100652000    737834637  6.579383e+08  4.823051e+09\n",
      "8           1968    71939000    264732980  4.509830e+08  1.659601e+09\n",
      "9           1969    42129087    243957076  2.504264e+08  1.450145e+09\n",
      "10          1970   126961946    560221969  7.130651e+08  3.146413e+09\n",
      "11          1971    75997000    404910610  4.092587e+08  2.180523e+09\n",
      "12          1972    36279254    494730171  1.891804e+08  2.579801e+09\n",
      "13          1973    65190783   1223981102  3.201623e+08  6.011167e+09\n",
      "14          1974    76970000    812539818  3.403832e+08  3.593282e+09\n",
      "15          1975    56279000    957489966  2.280324e+08  3.879578e+09\n",
      "16          1976   122150000    801005600  4.680419e+08  3.069212e+09\n",
      "17          1977   161580000   2180583159  5.813295e+08  7.845261e+09\n",
      "18          1978   208997011   1369779659  6.986145e+08  4.578763e+09\n",
      "19          1979   254814000   1684794913  7.656024e+08  5.062057e+09\n",
      "20          1980   362500000   1768662387  9.591883e+08  4.679946e+09\n",
      "21          1981   373757786   1774606236  8.963425e+08  4.255844e+09\n",
      "22          1982   437795002   2458443852  9.892602e+08  5.555204e+09\n",
      "23          1983   519107412   2307529320  1.136488e+09  5.051902e+09\n",
      "24          1984   729211964   2635524418  1.530647e+09  5.532077e+09\n",
      "25          1985   748720637   2875772392  1.517781e+09  5.829668e+09\n",
      "26          1986   704533613   3002778281  1.401604e+09  5.973746e+09\n",
      "27          1987   709455811   3462104847  1.361503e+09  6.644058e+09\n",
      "28          1988   922848000   3738961601  1.701631e+09  6.894238e+09\n",
      "29          1989  1079656360   5164923718  1.899099e+09  9.085023e+09\n",
      "30          1990  1289922066   5315166660  2.152749e+09  8.870474e+09\n",
      "31          1991  1466233000   4706599796  2.347575e+09  7.535703e+09\n",
      "32          1992  1437765370   6078153217  2.234322e+09  9.445598e+09\n",
      "33          1993  1779628653   6955151167  2.686296e+09  1.049859e+10\n",
      "34          1994  2229207032   7095429177  3.279412e+09  1.043817e+10\n",
      "35          1995  2865884377   9156341160  4.100986e+09  1.310242e+10\n",
      "36          1996  3687042051   8311492279  5.125788e+09  1.155478e+10\n",
      "37          1997  4751086675  10655173234  6.454163e+09  1.447463e+10\n",
      "38          1998  4499660000   9493174938  6.019175e+09  1.269898e+10\n",
      "39          1999  5765235106  11355712579  7.546997e+09  1.486523e+10\n",
      "40          2000  5752700000  10978701012  7.284599e+09  1.390224e+10\n",
      "41          2001  5641944000  13410083139  6.947987e+09  1.651436e+10\n",
      "42          2002  5891640255  14643605220  7.142208e+09  1.775188e+10\n",
      "43          2003  6239857694  15138243542  7.396432e+09  1.794416e+10\n",
      "44          2004  7170340222  16793822618  8.277766e+09  1.938755e+10\n",
      "45          2005  7343284349  16516835108  8.199242e+09  1.844209e+10\n",
      "46          2006  7303885300  16275739385  7.900387e+09  1.760497e+10\n",
      "47          2007  7628563004  19411662670  8.022720e+09  2.041464e+10\n",
      "48          2008  7776932597  19420695138  7.876373e+09  1.966902e+10\n",
      "49          2009  8590834056  22180170559  8.731727e+09  2.254393e+10\n",
      "50          2010  9354101006  21959031545  9.354101e+09  2.195903e+10\n",
      "51          2011  9018153652  23695591578  8.742180e+09  2.297046e+10\n",
      "52          2012  8271584052  24635028824  7.855890e+09  2.339698e+10\n",
      "53          2013  9231038361  24703633017  8.640560e+09  2.312342e+10\n",
      "54          2014  7923840021  24329646567  7.298578e+09  2.240982e+10\n",
      "55          2015  7596547557  26762450518  6.988821e+09  2.462144e+10\n"
     ]
    },
    {
     "data": {
      "image/png": "[encoded data removed]",
      "text/plain": [
       "<matplotlib.figure.Figure at 0x7f62973a30b8>"
      ]
     },
     "metadata": {
      "needs_background": "light"
     },
     "output_type": "display_data"
    }
   ],
   "source": [
    "df2 = df.groupby('release_year', as_index=False)['budget','revenue','budget_adj','revenue_adj'].sum()\n",
    "print(df2)\n",
    "fig = plt.figure(figsize = (20,10))\n",
    "ax1 = fig.add_subplot(111)\n",
    "\n",
    "ax1.scatter(df2['release_year'], df2['budget'], s=100, c='b', marker=\"o\", label='budget')\n",
    "ax1.scatter(df2['release_year'], df2['budget_adj'], s=100, c='r', marker=\"o\", label='budget_adj')\n",
    "ax1.scatter(df2['release_year'], df2['revenue_adj'], s=100, c='y', marker=\"o\", label='revenue_adj')\n",
    "ax1.scatter(df2['release_year'], df2['revenue'], s=100, c='g', marker=\"o\", label='revenue')\n",
    "ax1.set_xlabel(\"Release Year\")\n",
    "ax1.set_ylabel(\"USD\")\n",
    "plt.legend(loc='upper left');\n",
    "plt.show()"
   ]
  },
  {
   "cell_type": "markdown",
   "metadata": {},
   "source": [
    "I think i was right...\n",
    "As shown in the scatter plot the value differs between the normal values and adjusted values\n",
    "So i think its fair to use adjusted values to compare between the movies \"Financially\""
   ]
  },
  {
   "cell_type": "markdown",
   "metadata": {},
   "source": [
    "<a id='conclusions'></a>\n",
    "## Conclusions\n",
    "\n",
    "    1.top 10 movies made revenues ( Avatar ,Star Wars, Titanic , The Exorcist , Jaws , Star Wars: The Force Awakens , E.T. the Extra-Terrestrial , The Net , One Hundred and One Dalmatians , The Avengers)\n",
    "    2.top 10 movies made profits ( Star Wars , Avatar , Titanic , The Exorcist , Jaws, E.T. the Extra-Terrestrial , Star Wars: The Force Awakens , The Net , One Hundred and One Dalmatians , The Empire Strikes Back)\n",
    "    3.not all movies with highest revenues are the ones made highest profits\n",
    "    4.top 10 directors made profits (Steven Spielberg , James Cameron , George Lucas , Peter Jackson , Chris Columbus , Robert Zemeckis , Michael Bay , David Yates , Tim Burton , Christopher Nolan)\n",
    "    5.top 10 actors with most appearances (Robert De Niro , Samuel L. Jackson , Bruce Willis , Nicolas Cage , Michael Caine , Robin Williams , John Cusack , John Goodman , Morgan Freeman , Liam Neeson)\n",
    "    6.Using adjusted budget and revenue values gives us more fair comparison between the movies and directors \"finantially\"\n",
    "\n",
    "## Submitting your Project \n",
    "\n",
    "> Before you submit your project, you need to create a .html or .pdf version of this notebook in the workspace here. To do that, run the code cell below. If it worked correctly, you should get a return code of 0, and you should see the generated .html file in the workspace directory (click on the orange Jupyter icon in the upper left).\n",
    "\n",
    "> Alternatively, you can download this report as .html via the **File** > **Download as** submenu, and then manually upload it into the workspace directory by clicking on the orange Jupyter icon in the upper left, then using the Upload button.\n",
    "\n",
    "> Once you've done this, you can submit your project by clicking on the \"Submit Project\" button in the lower right here. This will create and submit a zip file with this .ipynb doc and the .html or .pdf version you created. Congratulations!"
   ]
  },
  {
   "cell_type": "code",
   "execution_count": null,
   "metadata": {
    "collapsed": true
   },
   "outputs": [],
   "source": [
    "from subprocess import call\n",
    "call(['python', '-m', 'nbconvert', 'Investigate_a_Dataset.ipynb'])"
   ]
  }
 ],
 "metadata": {
  "kernelspec": {
   "display_name": "Python 3",
   "language": "python",
   "name": "python3"
  },
  "language_info": {
   "codemirror_mode": {
    "name": "ipython",
    "version": 3
   },
   "file_extension": ".py",
   "mimetype": "text/x-python",
   "name": "python",
   "nbconvert_exporter": "python",
   "pygments_lexer": "ipython3",
   "version": "3.6.3"
  }
 },
 "nbformat": 4,
 "nbformat_minor": 2
}
